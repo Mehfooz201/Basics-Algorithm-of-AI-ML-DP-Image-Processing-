{
 "cells": [
  {
   "cell_type": "markdown",
   "id": "3e4291cd",
   "metadata": {},
   "source": [
    "# Rule Based System - Umbrella"
   ]
  },
  {
   "cell_type": "code",
   "execution_count": 23,
   "id": "1161adb9",
   "metadata": {},
   "outputs": [
    {
     "name": "stdout",
     "output_type": "stream",
     "text": [
      "1. Raining and outside and has Umrella\n",
      "2. Raining and outside and has no Umbrella\n",
      "3. GetsWet\n",
      "4. Sunny and Outside\n",
      "Please enter your choice 1 - 5 : 1\n",
      "invalid Choice\n"
     ]
    }
   ],
   "source": [
    "raining = \"Raining\"\n",
    "outside = 'Outside'\n",
    "hasUmbrella = 'Umrebella'\n",
    "useUmbrella = 'Use Umrebella'\n",
    "getWet = 'Get Wet'\n",
    "sunny = \"Sunny\"\n",
    "\n",
    "print(f\"\"\"1. Raining and outside and has Umrella\n",
    "2. Raining and outside and has no Umbrella\n",
    "3. GetsWet\n",
    "4. Sunny and Outside\"\"\")\n",
    "\n",
    "choice = input(\"Please enter your choice 1 - 5 : \")\n",
    "\n",
    "if choice == (raining and outside and hasUmbrella):\n",
    "    print(\"Use Umbrella\")\n",
    "    \n",
    "elif choice == (raining and outside != useUmbrella):\n",
    "    print(\"Get Well\")\n",
    "    \n",
    "elif choice == (getWet):\n",
    "    print('Catch Cold')\n",
    "    \n",
    "elif choice == (sunny and outside):\n",
    "    print(\"GetSunBurnt\")\n",
    "else:\n",
    "    print(\"invalid Choice\")\n",
    "    "
   ]
  },
  {
   "cell_type": "code",
   "execution_count": null,
   "id": "9339b614",
   "metadata": {},
   "outputs": [],
   "source": []
  },
  {
   "cell_type": "code",
   "execution_count": null,
   "id": "939b5dbd",
   "metadata": {},
   "outputs": [],
   "source": []
  },
  {
   "cell_type": "code",
   "execution_count": null,
   "id": "bd269122",
   "metadata": {},
   "outputs": [],
   "source": [
    "raining = True\n",
    "outside = True\n",
    "hasUmbrella = True\n",
    "useUmbrella = True\n",
    "getWet = True\n",
    "sunny = True\n",
    "\n",
    "print(f\"\"\"1. Raining Y or N Outside Y or N  has Umrella\n",
    "2. Raining and outside and has no Umbrella\n",
    "3. GetsWet\n",
    "4. Sunny and Outside\"\"\")\n",
    "\n",
    "choice = input(\"Please enter your choice 1 - 5 : \")\n",
    "\n",
    "if choice == (raining and outside and hasUmbrella):\n",
    "    print(\"Use Umbrella\")\n",
    "    \n",
    "elif choice == (raining and outside != useUmbrella):\n",
    "    print(\"Get Well\")\n",
    "    \n",
    "elif choice == (getWet):\n",
    "    print('Catch Cold')\n",
    "    \n",
    "elif choice == (sunny and outside):\n",
    "    print(\"GetSunBurnt\")\n",
    "else:\n",
    "    \n",
    "    print(\"invalid Choice\")\n",
    "    \n",
    "    \n",
    "    "
   ]
  },
  {
   "cell_type": "code",
   "execution_count": null,
   "id": "7560c02f",
   "metadata": {},
   "outputs": [],
   "source": [
    "raining = input(\"Raining Y or N\")"
   ]
  },
  {
   "cell_type": "code",
   "execution_count": null,
   "id": "9ffdc392",
   "metadata": {},
   "outputs": [],
   "source": []
  },
  {
   "cell_type": "code",
   "execution_count": null,
   "id": "b8c0807c",
   "metadata": {},
   "outputs": [],
   "source": []
  },
  {
   "cell_type": "code",
   "execution_count": null,
   "id": "c8a548af",
   "metadata": {},
   "outputs": [],
   "source": []
  },
  {
   "cell_type": "code",
   "execution_count": null,
   "id": "abc49e58",
   "metadata": {},
   "outputs": [],
   "source": []
  },
  {
   "cell_type": "code",
   "execution_count": 59,
   "id": "1cc9cefa",
   "metadata": {},
   "outputs": [
    {
     "name": "stdout",
     "output_type": "stream",
     "text": [
      "Raining, Y or N : 6\n",
      "Outisde, Y or N : 6\n",
      "Has Umbrella, Y or N : 5\n",
      "------------------------------------------------\n",
      "Safe\n"
     ]
    }
   ],
   "source": [
    "result = None\n",
    "raining = input('Raining, Y or N : ').lower()\n",
    "outside = input('Outisde, Y or N : ').lower()\n",
    "hasUmbrella = input(\"Has Umbrella, Y or N : \").lower()\n",
    "\n",
    "\n",
    "print(\"------------------------------------------------\")\n",
    "\n",
    "try:\n",
    "    if raining == 'y' and outside=='y' and hasUmbrella=='y':\n",
    "        print(\"Use Umbrella\")\n",
    "\n",
    "    elif raining == 'y' and outside=='y' != hasUmbrella=='n':\n",
    "        print(\"Get Wet\")\n",
    "    \n",
    "    elif sunny == 'y' and outside=='y' and hasUmbrella =='n':\n",
    "        print('Get Sun Burnt')\n",
    "    \n",
    "    elif raining == 'n' and outside=='n' and hasUmbrella =='y':\n",
    "        print(\"Safe\")\n",
    "    \n",
    "    elif raining == 'n' and outside=='y' and hasUmbrella =='y':\n",
    "        print(\"Not Burn\")\n",
    "\n",
    "    else:    \n",
    "        print(\"Safe\")\n",
    "\n",
    "except ValueError:\n",
    "    print('Invalid Command') \n",
    "    \n",
    "    \n",
    "    "
   ]
  },
  {
   "cell_type": "markdown",
   "id": "8c49faef",
   "metadata": {},
   "source": [
    "# 7"
   ]
  },
  {
   "cell_type": "code",
   "execution_count": null,
   "id": "30e92c61",
   "metadata": {},
   "outputs": [],
   "source": []
  },
  {
   "cell_type": "code",
   "execution_count": null,
   "id": "0292d949",
   "metadata": {},
   "outputs": [],
   "source": []
  },
  {
   "cell_type": "code",
   "execution_count": null,
   "id": "979e5f2d",
   "metadata": {},
   "outputs": [],
   "source": []
  },
  {
   "cell_type": "code",
   "execution_count": null,
   "id": "936eb0c7",
   "metadata": {},
   "outputs": [],
   "source": []
  },
  {
   "cell_type": "markdown",
   "id": "cbca1e80",
   "metadata": {},
   "source": [
    "# Engine & Battery"
   ]
  },
  {
   "cell_type": "code",
   "execution_count": 43,
   "id": "f33ecc1d",
   "metadata": {},
   "outputs": [
    {
     "name": "stdout",
     "output_type": "stream",
     "text": [
      "Is Engine on ? => Y or N : 6\n",
      "------------------------------------------------\n",
      "Invalid Command\n"
     ]
    }
   ],
   "source": [
    "engine = input('Is Engine on ? => Y or N : ').lower()\n",
    "battery = None\n",
    "spark = None\n",
    "en_start = None\n",
    "print(\"------------------------------------------------\")\n",
    "try:\n",
    "    if engine == 'n':\n",
    "        print(\"Check Battery\")\n",
    "        battery = input('Is Battery flat => Y or N : ').lower()\n",
    "        if battery == 'n':\n",
    "            spark = input(\"Is there spark => Y or N : \").lower()\n",
    "            if spark == 'n':\n",
    "                print(\"\\nCheck Points\")\n",
    "            else: #If spark => yes\n",
    "                print('\\nCheck Starter Motor')\n",
    "        else:\n",
    "            print(\"\\nChange Battery\")\n",
    "    elif engine == 'y':\n",
    "        en_start = input('Is Engine Start => Y or N : ').lower()\n",
    "        if en_start == 'y': \n",
    "            print(\"\\nExit\")\n",
    "        else:\n",
    "            print(\"\\nCheck Spark\")\n",
    "    else:    \n",
    "        print(\"Invalid Command\")\n",
    "\n",
    "except ValueError:\n",
    "    print('Invalid Command') \n",
    "    \n",
    "    \n",
    "    "
   ]
  },
  {
   "cell_type": "code",
   "execution_count": null,
   "id": "f0d41ae0",
   "metadata": {},
   "outputs": [],
   "source": []
  }
 ],
 "metadata": {
  "kernelspec": {
   "display_name": "Python 3 (ipykernel)",
   "language": "python",
   "name": "python3"
  },
  "language_info": {
   "codemirror_mode": {
    "name": "ipython",
    "version": 3
   },
   "file_extension": ".py",
   "mimetype": "text/x-python",
   "name": "python",
   "nbconvert_exporter": "python",
   "pygments_lexer": "ipython3",
   "version": "3.9.7"
  }
 },
 "nbformat": 4,
 "nbformat_minor": 5
}
