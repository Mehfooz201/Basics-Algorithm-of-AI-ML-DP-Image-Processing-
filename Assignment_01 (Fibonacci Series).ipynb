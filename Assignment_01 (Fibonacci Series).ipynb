{
 "cells": [
  {
   "cell_type": "markdown",
   "id": "766c2b3f",
   "metadata": {},
   "source": [
    "# Fibonacci Series\n",
    "    - Assigment No. 01"
   ]
  },
  {
   "cell_type": "code",
   "execution_count": 15,
   "id": "5ee76849",
   "metadata": {},
   "outputs": [
    {
     "name": "stdout",
     "output_type": "stream",
     "text": [
      "Enter a number to find Fibonacci Series : 4\n",
      "Fibonacci Series : [0, 20, 20, 40, 60]\n"
     ]
    }
   ],
   "source": [
    "#Fibonacci Series with User Input\n",
    "\n",
    "def Fibonacci(num):\n",
    "    num1 = 0\n",
    "    num2 = 1\n",
    "    num3 = 0\n",
    "    result = [0]\n",
    "\n",
    "    for i in range(num): \n",
    "        num1 = num2  #1, 0, 1, 2\n",
    "        num2 = num3  #0, 1, 2  3\n",
    "        num3 = num1 + num2 #1, 1, 2, 3, 5    \n",
    "\n",
    "        #Append the value and add into the list\n",
    "        result.append(num3)\n",
    "\n",
    "    return f\"Fibonacci Series : {result}\" \n",
    "\n",
    "#Errors handling\n",
    "try:\n",
    "    num = int(input(\"Enter a number to find Fibonacci Series : \"))   \n",
    "    fib = Fibonacci(num)\n",
    "    print(fib)\n",
    "\n",
    "except ValueError:\n",
    "    print(\"Invalid Command, please enter a valid number\")\n"
   ]
  },
  {
   "cell_type": "code",
   "execution_count": null,
   "id": "6c73b4da",
   "metadata": {},
   "outputs": [],
   "source": []
  },
  {
   "cell_type": "code",
   "execution_count": null,
   "id": "084c0748",
   "metadata": {},
   "outputs": [],
   "source": []
  },
  {
   "cell_type": "code",
   "execution_count": null,
   "id": "1e04ebc1",
   "metadata": {},
   "outputs": [],
   "source": []
  },
  {
   "cell_type": "code",
   "execution_count": null,
   "id": "793b98bd",
   "metadata": {},
   "outputs": [],
   "source": []
  },
  {
   "cell_type": "code",
   "execution_count": null,
   "id": "691f0fec",
   "metadata": {},
   "outputs": [],
   "source": []
  },
  {
   "cell_type": "code",
   "execution_count": null,
   "id": "a3b6cd3f",
   "metadata": {},
   "outputs": [],
   "source": []
  },
  {
   "cell_type": "code",
   "execution_count": null,
   "id": "2df043c3",
   "metadata": {},
   "outputs": [],
   "source": []
  },
  {
   "cell_type": "code",
   "execution_count": null,
   "id": "805c8b50",
   "metadata": {},
   "outputs": [],
   "source": []
  },
  {
   "cell_type": "code",
   "execution_count": null,
   "id": "40aa4a12",
   "metadata": {},
   "outputs": [],
   "source": []
  },
  {
   "cell_type": "code",
   "execution_count": null,
   "id": "2e1a7c4e",
   "metadata": {},
   "outputs": [],
   "source": []
  },
  {
   "cell_type": "code",
   "execution_count": null,
   "id": "0745cb21",
   "metadata": {},
   "outputs": [],
   "source": []
  },
  {
   "cell_type": "code",
   "execution_count": null,
   "id": "6254d933",
   "metadata": {},
   "outputs": [],
   "source": []
  },
  {
   "cell_type": "code",
   "execution_count": null,
   "id": "c122af4f",
   "metadata": {},
   "outputs": [],
   "source": []
  },
  {
   "cell_type": "code",
   "execution_count": null,
   "id": "0403323d",
   "metadata": {},
   "outputs": [],
   "source": []
  },
  {
   "cell_type": "code",
   "execution_count": null,
   "id": "869e9be1",
   "metadata": {},
   "outputs": [],
   "source": []
  },
  {
   "cell_type": "code",
   "execution_count": null,
   "id": "3f2f4b50",
   "metadata": {},
   "outputs": [],
   "source": []
  },
  {
   "cell_type": "code",
   "execution_count": 145,
   "id": "1b2d6c97",
   "metadata": {},
   "outputs": [
    {
     "name": "stdout",
     "output_type": "stream",
     "text": [
      "Enter a number to find Fibonacci Series : 12\n",
      "0 1 1 2 3 5 8 13 21 34 55 89 "
     ]
    }
   ],
   "source": [
    "#Abdul Rauf Memon (047)\n",
    "\n",
    "a=0\n",
    "b=1\n",
    "c=0\n",
    "\n",
    "#Errors handling\n",
    "try:\n",
    "    num = int(input(\"Enter a number to find Fibonacci Series : \"))\n",
    "    \n",
    "    for i in range(num):\n",
    "        print(c, end=\" \")\n",
    "        \n",
    "        a=b\n",
    "        b=c\n",
    "        c=a+b\n",
    "\n",
    "except ValueError:\n",
    "    print(\"Invalid Number\")\n",
    "\n",
    "\n",
    "\n"
   ]
  },
  {
   "cell_type": "code",
   "execution_count": null,
   "id": "7489c015",
   "metadata": {},
   "outputs": [],
   "source": []
  },
  {
   "cell_type": "code",
   "execution_count": null,
   "id": "193fc045",
   "metadata": {},
   "outputs": [],
   "source": []
  },
  {
   "cell_type": "code",
   "execution_count": null,
   "id": "0b4a2617",
   "metadata": {},
   "outputs": [],
   "source": []
  },
  {
   "cell_type": "code",
   "execution_count": null,
   "id": "bbf7958e",
   "metadata": {},
   "outputs": [],
   "source": []
  },
  {
   "cell_type": "code",
   "execution_count": null,
   "id": "24e62c0e",
   "metadata": {},
   "outputs": [],
   "source": []
  }
 ],
 "metadata": {
  "kernelspec": {
   "display_name": "Python 3 (ipykernel)",
   "language": "python",
   "name": "python3"
  },
  "language_info": {
   "codemirror_mode": {
    "name": "ipython",
    "version": 3
   },
   "file_extension": ".py",
   "mimetype": "text/x-python",
   "name": "python",
   "nbconvert_exporter": "python",
   "pygments_lexer": "ipython3",
   "version": "3.9.7"
  }
 },
 "nbformat": 4,
 "nbformat_minor": 5
}
